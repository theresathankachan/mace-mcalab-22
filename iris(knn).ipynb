{
  "nbformat": 4,
  "nbformat_minor": 0,
  "metadata": {
    "colab": {
      "provenance": [],
      "authorship_tag": "ABX9TyNgvKqU7b1lEcpTtJTNJFcy",
      "include_colab_link": true
    },
    "kernelspec": {
      "name": "python3",
      "display_name": "Python 3"
    },
    "language_info": {
      "name": "python"
    }
  },
  "cells": [
    {
      "cell_type": "markdown",
      "metadata": {
        "id": "view-in-github",
        "colab_type": "text"
      },
      "source": [
        "<a href=\"https://colab.research.google.com/github/theresathankachan/mace-mcalab-22/blob/main/iris(knn).ipynb\" target=\"_parent\"><img src=\"https://colab.research.google.com/assets/colab-badge.svg\" alt=\"Open In Colab\"/></a>"
      ]
    },
    {
      "cell_type": "code",
      "execution_count": 1,
      "metadata": {
        "id": "6CMOh9CT6jZE"
      },
      "outputs": [],
      "source": [
        "import numpy as np\n",
        "import pandas as pd\n",
        "import matplotlib.pyplot as plt\n",
        "import plotly.express as px\n"
      ]
    },
    {
      "cell_type": "code",
      "source": [
        "df=pd.read_csv(\"https://raw.githubusercontent.com/theresathankachan/S3MCA/main/Datascience/Datasets/iris.csv\")\n",
        "print(df.head(100))"
      ],
      "metadata": {
        "colab": {
          "base_uri": "https://localhost:8080/"
        },
        "id": "LGf7uiNC7up7",
        "outputId": "e61340d7-04e1-4ab6-c024-69e00cb56b12"
      },
      "execution_count": 10,
      "outputs": [
        {
          "output_type": "stream",
          "name": "stdout",
          "text": [
            "     Id  SepalLengthCm  SepalWidthCm  PetalLengthCm  PetalWidthCm  \\\n",
            "0     1            5.1           3.5            1.4           0.2   \n",
            "1     2            4.9           3.0            1.4           0.2   \n",
            "2     3            4.7           3.2            1.3           0.2   \n",
            "3     4            4.6           3.1            1.5           0.2   \n",
            "4     5            5.0           3.6            1.4           0.2   \n",
            "..  ...            ...           ...            ...           ...   \n",
            "95   96            5.7           3.0            4.2           1.2   \n",
            "96   97            5.7           2.9            4.2           1.3   \n",
            "97   98            6.2           2.9            4.3           1.3   \n",
            "98   99            5.1           2.5            3.0           1.1   \n",
            "99  100            5.7           2.8            4.1           1.3   \n",
            "\n",
            "            Species  \n",
            "0       Iris-setosa  \n",
            "1       Iris-setosa  \n",
            "2       Iris-setosa  \n",
            "3       Iris-setosa  \n",
            "4       Iris-setosa  \n",
            "..              ...  \n",
            "95  Iris-versicolor  \n",
            "96  Iris-versicolor  \n",
            "97  Iris-versicolor  \n",
            "98  Iris-versicolor  \n",
            "99  Iris-versicolor  \n",
            "\n",
            "[100 rows x 6 columns]\n"
          ]
        }
      ]
    },
    {
      "cell_type": "code",
      "source": [
        "from sklearn.model_selection import train_test_split\n",
        "## train - 70%\n",
        "## test - 30%\n",
        "\n",
        "# input data\n",
        "X = df.drop(columns=['Species'])\n",
        "# output data\n",
        "Y = df['Species']\n",
        "# split the data for train and test\n",
        "x_train, x_test, y_train, y_test = train_test_split(X, Y, test_size=0.30)\n",
        "# knn - k-nearest neighbours\n",
        "from sklearn.neighbors import KNeighborsClassifier\n",
        "model = KNeighborsClassifier(n_neighbors=3)\n",
        "model.fit(x_train, y_train)\n",
        "y_pred=model.predict(x_test)\n",
        "# print metric to get performance\n",
        "print(\"Accuracy: \",model.score(x_test, y_test) * 100)"
      ],
      "metadata": {
        "colab": {
          "base_uri": "https://localhost:8080/"
        },
        "id": "W7KwhTBj8Crx",
        "outputId": "38b0a70f-317b-403a-ec30-ce4a0b6dfba6"
      },
      "execution_count": 7,
      "outputs": [
        {
          "output_type": "stream",
          "name": "stdout",
          "text": [
            "Accuracy:  100.0\n"
          ]
        }
      ]
    },
    {
      "cell_type": "code",
      "source": [
        "y_pred=model.predict([[99,5.1,2.5,3.0,1.1]])\n",
        "print(y_pred)"
      ],
      "metadata": {
        "colab": {
          "base_uri": "https://localhost:8080/"
        },
        "id": "kKElqPhA7OCV",
        "outputId": "f71aca11-d5e4-4762-b12c-863ff6b813a6"
      },
      "execution_count": 11,
      "outputs": [
        {
          "output_type": "stream",
          "name": "stdout",
          "text": [
            "['Iris-versicolor']\n"
          ]
        },
        {
          "output_type": "stream",
          "name": "stderr",
          "text": [
            "/usr/local/lib/python3.8/dist-packages/sklearn/base.py:450: UserWarning: X does not have valid feature names, but KNeighborsClassifier was fitted with feature names\n",
            "  warnings.warn(\n"
          ]
        }
      ]
    }
  ]
}